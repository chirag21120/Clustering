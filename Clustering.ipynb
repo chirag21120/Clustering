{
  "nbformat": 4,
  "nbformat_minor": 0,
  "metadata": {
    "colab": {
      "provenance": [],
      "authorship_tag": "ABX9TyOqbum+5cxETq2Ye8Oxp5eh",
      "include_colab_link": true
    },
    "kernelspec": {
      "name": "python3",
      "display_name": "Python 3"
    },
    "language_info": {
      "name": "python"
    }
  },
  "cells": [
    {
      "cell_type": "markdown",
      "metadata": {
        "id": "view-in-github",
        "colab_type": "text"
      },
      "source": [
        "<a href=\"https://colab.research.google.com/github/chirag21120/Clustering/blob/main/Clustering.ipynb\" target=\"_parent\"><img src=\"https://colab.research.google.com/assets/colab-badge.svg\" alt=\"Open In Colab\"/></a>"
      ]
    },
    {
      "cell_type": "code",
      "execution_count": null,
      "metadata": {
        "id": "ZdG4obTqOou8"
      },
      "outputs": [],
      "source": [
        "import numpy as np\n",
        "import pandas as pd\n",
        "import matplotlib.pyplot as plt\n",
        "from sklearn.datasets import load_wine\n",
        "from sklearn.preprocessing import StandardScaler, MinMaxScaler\n",
        "from sklearn.decomposition import PCA\n",
        "from sklearn.cluster import KMeans, AgglomerativeClustering, MeanShift\n",
        "from sklearn.metrics import silhouette_score, davies_bouldin_score, calinski_harabasz_score"
      ]
    },
    {
      "cell_type": "code",
      "source": [
        "wine = load_wine()\n",
        "X = wine.data"
      ],
      "metadata": {
        "id": "uAJNewq4OzUQ"
      },
      "execution_count": null,
      "outputs": []
    },
    {
      "cell_type": "code",
      "source": [
        "preprocessing_techniques = {\n",
        "    'No Preprocessing': lambda x: x,\n",
        "    'Normalization': MinMaxScaler().fit_transform,\n",
        "    'Standardization': StandardScaler().fit_transform,\n",
        "    'PCA': PCA(n_components=2).fit_transform,\n",
        "    'Normalization + PCA': lambda x: PCA(n_components=2).fit_transform(MinMaxScaler().fit_transform(x)),\n",
        "    'Standardization + PCA': lambda x: PCA(n_components=2).fit_transform(StandardScaler().fit_transform(x)),\n",
        "    'Normalization + Standardization + PCA': lambda x: PCA(n_components=2).fit_transform(StandardScaler().fit_transform(MinMaxScaler().fit_transform(x)))\n",
        "}\n"
      ],
      "metadata": {
        "id": "JjY1n7vEPPPW"
      },
      "execution_count": null,
      "outputs": []
    },
    {
      "cell_type": "code",
      "source": [
        "clustering_algorithms = {\n",
        "    'KMeans': [KMeans(n_clusters=i) for i in range(3, 6)],\n",
        "    'Hierarchical': [AgglomerativeClustering(n_clusters=i) for i in range(3, 6)],\n",
        "    'MeanShift': [MeanShift()]\n",
        "}\n",
        "\n"
      ],
      "metadata": {
        "id": "Dp6NClJLPf8i"
      },
      "execution_count": 40,
      "outputs": []
    },
    {
      "cell_type": "code",
      "source": [
        "evaluation_metrics = {\n",
        "    'Silhouette Score': silhouette_score,\n",
        "    'Davies-Bouldin Index': davies_bouldin_score,\n",
        "    'Calinski-Harabasz Index': calinski_harabasz_score\n",
        "}"
      ],
      "metadata": {
        "id": "5P0Vegt4PiyT"
      },
      "execution_count": null,
      "outputs": []
    },
    {
      "cell_type": "code",
      "source": [
        "import os\n",
        "if not os.path.exists('results'):\n",
        "    os.makedirs('results')"
      ],
      "metadata": {
        "id": "0UYTuO0EPl9K"
      },
      "execution_count": null,
      "outputs": []
    },
    {
      "cell_type": "code",
      "source": [
        "best_algorithm = None\n",
        "best_num_clusters = None\n",
        "best_silhouette_score = float('-inf')\n"
      ],
      "metadata": {
        "id": "7W5mYbyMhYzJ"
      },
      "execution_count": 44,
      "outputs": []
    },
    {
      "cell_type": "code",
      "source": [
        "for algo_name, algorithms in clustering_algorithms.items():\n",
        "    # Initialize a dictionary to store the results\n",
        "    algo_results = {}\n",
        "    for algorithm in algorithms:\n",
        "        for preproc_name, preproc_func in preprocessing_techniques.items():\n",
        "            X_preprocessed = preproc_func(X)\n",
        "            algorithm.fit(X_preprocessed)\n",
        "\n",
        "            # Check if the clustering produced valid results\n",
        "            unique_labels = set(algorithm.labels_)\n",
        "            if len(unique_labels) > 1 and -1 not in unique_labels:\n",
        "                labels = algorithm.labels_\n",
        "\n",
        "                # Compute evaluation metrics\n",
        "                metrics = {}\n",
        "                for metric_name, metric_func in evaluation_metrics.items():\n",
        "                    score = metric_func(X_preprocessed, labels)\n",
        "                    metrics[metric_name] = score\n",
        "\n",
        "                # Store the results\n",
        "                if preproc_name not in algo_results:\n",
        "                    algo_results[preproc_name] = {}\n",
        "                algo_results[preproc_name][f'{algorithm.__class__.__name__}_clusters_{algorithm.n_clusters if hasattr(algorithm, \"n_clusters\") else \"MeanShift\"}'] = metrics\n",
        "\n",
        "    # Convert the final results to DataFrame\n",
        "    final_results_df = pd.DataFrame(algo_results)\n",
        "\n",
        "    # Save the final results to a CSV file\n",
        "    final_results_df.to_csv(f\"results/{algo_name}_results.csv\")\n",
        "\n",
        "    # Print the final results\n",
        "    print(f\"\\n{algo_name} Results:\")\n",
        "    print(final_results_df)\n",
        "    for preproc_name, preproc_results in algo_results.items():\n",
        "        for num_clusters, metrics in preproc_results.items():\n",
        "            if metrics['Silhouette Score'] > best_silhouette_score:\n",
        "                best_algorithm = algo_name\n",
        "                best_num_clusters = num_clusters\n",
        "                best_silhouette_score = metrics['Silhouette Score']"
      ],
      "metadata": {
        "colab": {
          "base_uri": "https://localhost:8080/"
        },
        "id": "bFLBcj58edbv",
        "outputId": "9fca8d70-d15a-423b-b24d-db5bb00020ef"
      },
      "execution_count": 45,
      "outputs": [
        {
          "output_type": "stream",
          "name": "stderr",
          "text": [
            "/usr/local/lib/python3.10/dist-packages/sklearn/cluster/_kmeans.py:870: FutureWarning: The default value of `n_init` will change from 10 to 'auto' in 1.4. Set the value of `n_init` explicitly to suppress the warning\n",
            "  warnings.warn(\n",
            "/usr/local/lib/python3.10/dist-packages/sklearn/cluster/_kmeans.py:870: FutureWarning: The default value of `n_init` will change from 10 to 'auto' in 1.4. Set the value of `n_init` explicitly to suppress the warning\n",
            "  warnings.warn(\n",
            "/usr/local/lib/python3.10/dist-packages/sklearn/cluster/_kmeans.py:870: FutureWarning: The default value of `n_init` will change from 10 to 'auto' in 1.4. Set the value of `n_init` explicitly to suppress the warning\n",
            "  warnings.warn(\n",
            "/usr/local/lib/python3.10/dist-packages/sklearn/cluster/_kmeans.py:870: FutureWarning: The default value of `n_init` will change from 10 to 'auto' in 1.4. Set the value of `n_init` explicitly to suppress the warning\n",
            "  warnings.warn(\n",
            "/usr/local/lib/python3.10/dist-packages/sklearn/cluster/_kmeans.py:870: FutureWarning: The default value of `n_init` will change from 10 to 'auto' in 1.4. Set the value of `n_init` explicitly to suppress the warning\n",
            "  warnings.warn(\n",
            "/usr/local/lib/python3.10/dist-packages/sklearn/cluster/_kmeans.py:870: FutureWarning: The default value of `n_init` will change from 10 to 'auto' in 1.4. Set the value of `n_init` explicitly to suppress the warning\n",
            "  warnings.warn(\n",
            "/usr/local/lib/python3.10/dist-packages/sklearn/cluster/_kmeans.py:870: FutureWarning: The default value of `n_init` will change from 10 to 'auto' in 1.4. Set the value of `n_init` explicitly to suppress the warning\n",
            "  warnings.warn(\n",
            "/usr/local/lib/python3.10/dist-packages/sklearn/cluster/_kmeans.py:870: FutureWarning: The default value of `n_init` will change from 10 to 'auto' in 1.4. Set the value of `n_init` explicitly to suppress the warning\n",
            "  warnings.warn(\n",
            "/usr/local/lib/python3.10/dist-packages/sklearn/cluster/_kmeans.py:870: FutureWarning: The default value of `n_init` will change from 10 to 'auto' in 1.4. Set the value of `n_init` explicitly to suppress the warning\n",
            "  warnings.warn(\n",
            "/usr/local/lib/python3.10/dist-packages/sklearn/cluster/_kmeans.py:870: FutureWarning: The default value of `n_init` will change from 10 to 'auto' in 1.4. Set the value of `n_init` explicitly to suppress the warning\n",
            "  warnings.warn(\n",
            "/usr/local/lib/python3.10/dist-packages/sklearn/cluster/_kmeans.py:870: FutureWarning: The default value of `n_init` will change from 10 to 'auto' in 1.4. Set the value of `n_init` explicitly to suppress the warning\n",
            "  warnings.warn(\n",
            "/usr/local/lib/python3.10/dist-packages/sklearn/cluster/_kmeans.py:870: FutureWarning: The default value of `n_init` will change from 10 to 'auto' in 1.4. Set the value of `n_init` explicitly to suppress the warning\n",
            "  warnings.warn(\n",
            "/usr/local/lib/python3.10/dist-packages/sklearn/cluster/_kmeans.py:870: FutureWarning: The default value of `n_init` will change from 10 to 'auto' in 1.4. Set the value of `n_init` explicitly to suppress the warning\n",
            "  warnings.warn(\n",
            "/usr/local/lib/python3.10/dist-packages/sklearn/cluster/_kmeans.py:870: FutureWarning: The default value of `n_init` will change from 10 to 'auto' in 1.4. Set the value of `n_init` explicitly to suppress the warning\n",
            "  warnings.warn(\n",
            "/usr/local/lib/python3.10/dist-packages/sklearn/cluster/_kmeans.py:870: FutureWarning: The default value of `n_init` will change from 10 to 'auto' in 1.4. Set the value of `n_init` explicitly to suppress the warning\n",
            "  warnings.warn(\n",
            "/usr/local/lib/python3.10/dist-packages/sklearn/cluster/_kmeans.py:870: FutureWarning: The default value of `n_init` will change from 10 to 'auto' in 1.4. Set the value of `n_init` explicitly to suppress the warning\n",
            "  warnings.warn(\n",
            "/usr/local/lib/python3.10/dist-packages/sklearn/cluster/_kmeans.py:870: FutureWarning: The default value of `n_init` will change from 10 to 'auto' in 1.4. Set the value of `n_init` explicitly to suppress the warning\n",
            "  warnings.warn(\n",
            "/usr/local/lib/python3.10/dist-packages/sklearn/cluster/_kmeans.py:870: FutureWarning: The default value of `n_init` will change from 10 to 'auto' in 1.4. Set the value of `n_init` explicitly to suppress the warning\n",
            "  warnings.warn(\n",
            "/usr/local/lib/python3.10/dist-packages/sklearn/cluster/_kmeans.py:870: FutureWarning: The default value of `n_init` will change from 10 to 'auto' in 1.4. Set the value of `n_init` explicitly to suppress the warning\n",
            "  warnings.warn(\n",
            "/usr/local/lib/python3.10/dist-packages/sklearn/cluster/_kmeans.py:870: FutureWarning: The default value of `n_init` will change from 10 to 'auto' in 1.4. Set the value of `n_init` explicitly to suppress the warning\n",
            "  warnings.warn(\n",
            "/usr/local/lib/python3.10/dist-packages/sklearn/cluster/_kmeans.py:870: FutureWarning: The default value of `n_init` will change from 10 to 'auto' in 1.4. Set the value of `n_init` explicitly to suppress the warning\n",
            "  warnings.warn(\n"
          ]
        },
        {
          "output_type": "stream",
          "name": "stdout",
          "text": [
            "\n",
            "KMeans Results:\n",
            "                                                    No Preprocessing  \\\n",
            "KMeans_clusters_3  {'Silhouette Score': 0.5711381937868838, 'Davi...   \n",
            "KMeans_clusters_4  {'Silhouette Score': 0.5611347173642887, 'Davi...   \n",
            "KMeans_clusters_5  {'Silhouette Score': 0.5489993239795675, 'Davi...   \n",
            "\n",
            "                                                       Normalization  \\\n",
            "KMeans_clusters_3  {'Silhouette Score': 0.3013463273503232, 'Davi...   \n",
            "KMeans_clusters_4  {'Silhouette Score': 0.25713225377923027, 'Dav...   \n",
            "KMeans_clusters_5  {'Silhouette Score': 0.242280555267062, 'Davie...   \n",
            "\n",
            "                                                     Standardization  \\\n",
            "KMeans_clusters_3  {'Silhouette Score': 0.2848589191898987, 'Davi...   \n",
            "KMeans_clusters_4  {'Silhouette Score': 0.2521848297078379, 'Davi...   \n",
            "KMeans_clusters_5  {'Silhouette Score': 0.2295348007057559, 'Davi...   \n",
            "\n",
            "                                                                 PCA  \\\n",
            "KMeans_clusters_3  {'Silhouette Score': 0.5722554756855063, 'Davi...   \n",
            "KMeans_clusters_4  {'Silhouette Score': 0.5633930017441459, 'Davi...   \n",
            "KMeans_clusters_5  {'Silhouette Score': 0.5510520283196167, 'Davi...   \n",
            "\n",
            "                                                 Normalization + PCA  \\\n",
            "KMeans_clusters_3  {'Silhouette Score': 0.5680591392935428, 'Davi...   \n",
            "KMeans_clusters_4  {'Silhouette Score': 0.4901590386140555, 'Davi...   \n",
            "KMeans_clusters_5  {'Silhouette Score': 0.456406362373507, 'Davie...   \n",
            "\n",
            "                                               Standardization + PCA  \\\n",
            "KMeans_clusters_3  {'Silhouette Score': 0.5610505693103248, 'Davi...   \n",
            "KMeans_clusters_4  {'Silhouette Score': 0.49142133957103173, 'Dav...   \n",
            "KMeans_clusters_5  {'Silhouette Score': 0.4411644097008517, 'Davi...   \n",
            "\n",
            "                               Normalization + Standardization + PCA  \n",
            "KMeans_clusters_3  {'Silhouette Score': 0.5610505693103248, 'Davi...  \n",
            "KMeans_clusters_4  {'Silhouette Score': 0.49142133957103173, 'Dav...  \n",
            "KMeans_clusters_5  {'Silhouette Score': 0.4411644097008517, 'Davi...  \n",
            "\n",
            "Hierarchical Results:\n",
            "                                                                     No Preprocessing  \\\n",
            "AgglomerativeClustering_clusters_3  {'Silhouette Score': 0.5644796401732068, 'Davi...   \n",
            "AgglomerativeClustering_clusters_4  {'Silhouette Score': 0.560672694839426, 'Davie...   \n",
            "AgglomerativeClustering_clusters_5  {'Silhouette Score': 0.5074843044233786, 'Davi...   \n",
            "\n",
            "                                                                        Normalization  \\\n",
            "AgglomerativeClustering_clusters_3  {'Silhouette Score': 0.2948290632158541, 'Davi...   \n",
            "AgglomerativeClustering_clusters_4  {'Silhouette Score': 0.24870332075467336, 'Dav...   \n",
            "AgglomerativeClustering_clusters_5  {'Silhouette Score': 0.20415379209163967, 'Dav...   \n",
            "\n",
            "                                                                      Standardization  \\\n",
            "AgglomerativeClustering_clusters_3  {'Silhouette Score': 0.2774439826952266, 'Davi...   \n",
            "AgglomerativeClustering_clusters_4  {'Silhouette Score': 0.22583665933475802, 'Dav...   \n",
            "AgglomerativeClustering_clusters_5  {'Silhouette Score': 0.18674235566758707, 'Dav...   \n",
            "\n",
            "                                                                                  PCA  \\\n",
            "AgglomerativeClustering_clusters_3  {'Silhouette Score': 0.5655806398804167, 'Davi...   \n",
            "AgglomerativeClustering_clusters_4  {'Silhouette Score': 0.5619198165355055, 'Davi...   \n",
            "AgglomerativeClustering_clusters_5  {'Silhouette Score': 0.5009132358875239, 'Davi...   \n",
            "\n",
            "                                                                  Normalization + PCA  \\\n",
            "AgglomerativeClustering_clusters_3  {'Silhouette Score': 0.5433269066195718, 'Davi...   \n",
            "AgglomerativeClustering_clusters_4  {'Silhouette Score': 0.4795482733417378, 'Davi...   \n",
            "AgglomerativeClustering_clusters_5  {'Silhouette Score': 0.4472461286082825, 'Davi...   \n",
            "\n",
            "                                                                Standardization + PCA  \\\n",
            "AgglomerativeClustering_clusters_3  {'Silhouette Score': 0.5590883962040384, 'Davi...   \n",
            "AgglomerativeClustering_clusters_4  {'Silhouette Score': 0.48128643268348265, 'Dav...   \n",
            "AgglomerativeClustering_clusters_5  {'Silhouette Score': 0.38977362151827033, 'Dav...   \n",
            "\n",
            "                                                Normalization + Standardization + PCA  \n",
            "AgglomerativeClustering_clusters_3  {'Silhouette Score': 0.5590883962040384, 'Davi...  \n",
            "AgglomerativeClustering_clusters_4  {'Silhouette Score': 0.48128643268348253, 'Dav...  \n",
            "AgglomerativeClustering_clusters_5  {'Silhouette Score': 0.38977362151827016, 'Dav...  \n",
            "\n",
            "MeanShift Results:\n",
            "                                                               No Preprocessing  \\\n",
            "MeanShift_clusters_MeanShift  {'Silhouette Score': 0.5024921259394886, 'Davi...   \n",
            "\n",
            "                                                                Standardization  \\\n",
            "MeanShift_clusters_MeanShift  {'Silhouette Score': 0.22447619269259034, 'Dav...   \n",
            "\n",
            "                                                                            PCA  \\\n",
            "MeanShift_clusters_MeanShift  {'Silhouette Score': 0.5032214854110606, 'Davi...   \n",
            "\n",
            "                                                            Normalization + PCA  \\\n",
            "MeanShift_clusters_MeanShift  {'Silhouette Score': 0.5633036442187266, 'Davi...   \n",
            "\n",
            "                                                          Standardization + PCA  \\\n",
            "MeanShift_clusters_MeanShift  {'Silhouette Score': 0.5591630593760692, 'Davi...   \n",
            "\n",
            "                                          Normalization + Standardization + PCA  \n",
            "MeanShift_clusters_MeanShift  {'Silhouette Score': 0.5591630593760692, 'Davi...  \n"
          ]
        }
      ]
    },
    {
      "cell_type": "code",
      "source": [
        "print(\"\\nBest Clustering Algorithm:\", best_algorithm)\n",
        "print(\"Best Number of Clusters:\", best_num_clusters)\n",
        "print(\"Best Silhouette Score:\", best_silhouette_score)\n"
      ],
      "metadata": {
        "colab": {
          "base_uri": "https://localhost:8080/"
        },
        "id": "moFcor5AgEwC",
        "outputId": "16138710-592f-44bc-8fff-c7d4f3fe49a5"
      },
      "execution_count": 46,
      "outputs": [
        {
          "output_type": "stream",
          "name": "stdout",
          "text": [
            "\n",
            "Best Clustering Algorithm: KMeans\n",
            "Best Number of Clusters: KMeans_clusters_3\n",
            "Best Silhouette Score: 0.5722554756855063\n"
          ]
        }
      ]
    }
  ]
}