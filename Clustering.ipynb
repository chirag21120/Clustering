{
  "nbformat": 4,
  "nbformat_minor": 0,
  "metadata": {
    "colab": {
      "provenance": [],
      "authorship_tag": "ABX9TyN6c6K1c7JiwnP++KcjFeyk",
      "include_colab_link": true
    },
    "kernelspec": {
      "name": "python3",
      "display_name": "Python 3"
    },
    "language_info": {
      "name": "python"
    }
  },
  "cells": [
    {
      "cell_type": "markdown",
      "metadata": {
        "id": "view-in-github",
        "colab_type": "text"
      },
      "source": [
        "<a href=\"https://colab.research.google.com/github/chirag21120/Clustering/blob/main/Clustering.ipynb\" target=\"_parent\"><img src=\"https://colab.research.google.com/assets/colab-badge.svg\" alt=\"Open In Colab\"/></a>"
      ]
    },
    {
      "cell_type": "code",
      "execution_count": 2,
      "metadata": {
        "id": "ZdG4obTqOou8"
      },
      "outputs": [],
      "source": [
        "import numpy as np\n",
        "import pandas as pd\n",
        "import matplotlib.pyplot as plt\n",
        "from sklearn.datasets import load_wine\n",
        "from sklearn.preprocessing import StandardScaler, MinMaxScaler\n",
        "from sklearn.decomposition import PCA\n",
        "from sklearn.cluster import KMeans, AgglomerativeClustering, MeanShift\n",
        "from sklearn.metrics import silhouette_score, davies_bouldin_score, calinski_harabasz_score"
      ]
    },
    {
      "cell_type": "code",
      "source": [
        "wine = load_wine()\n",
        "X = wine.data"
      ],
      "metadata": {
        "id": "uAJNewq4OzUQ"
      },
      "execution_count": 3,
      "outputs": []
    },
    {
      "cell_type": "code",
      "source": [
        "preprocessing_techniques = {\n",
        "    'No Preprocessing': lambda x: x,\n",
        "    'Normalization': MinMaxScaler().fit_transform,\n",
        "    'Standardization': StandardScaler().fit_transform,\n",
        "    'PCA': PCA(n_components=2).fit_transform,\n",
        "    'Normalization + PCA': lambda x: PCA(n_components=2).fit_transform(MinMaxScaler().fit_transform(x)),\n",
        "    'Standardization + PCA': lambda x: PCA(n_components=2).fit_transform(StandardScaler().fit_transform(x)),\n",
        "    'Normalization + Standardization + PCA': lambda x: PCA(n_components=2).fit_transform(StandardScaler().fit_transform(MinMaxScaler().fit_transform(x)))\n",
        "}\n"
      ],
      "metadata": {
        "id": "JjY1n7vEPPPW"
      },
      "execution_count": 35,
      "outputs": []
    },
    {
      "cell_type": "code",
      "source": [
        "clustering_algorithms = {\n",
        "    'KMeans': KMeans(n_clusters=3),\n",
        "    'Hierarchical': AgglomerativeClustering(n_clusters=3),\n",
        "    'MeanShift': MeanShift()\n",
        "}\n"
      ],
      "metadata": {
        "id": "Dp6NClJLPf8i"
      },
      "execution_count": 16,
      "outputs": []
    },
    {
      "cell_type": "code",
      "source": [
        "evaluation_metrics = {\n",
        "    'Silhouette Score': silhouette_score,\n",
        "    'Davies-Bouldin Index': davies_bouldin_score,\n",
        "    'Calinski-Harabasz Index': calinski_harabasz_score\n",
        "}"
      ],
      "metadata": {
        "id": "5P0Vegt4PiyT"
      },
      "execution_count": 17,
      "outputs": []
    },
    {
      "cell_type": "code",
      "source": [
        "import os\n",
        "if not os.path.exists('results'):\n",
        "    os.makedirs('results')"
      ],
      "metadata": {
        "id": "0UYTuO0EPl9K"
      },
      "execution_count": 21,
      "outputs": []
    },
    {
      "cell_type": "code",
      "source": [
        "for algo_name, algorithm in clustering_algorithms.items():\n",
        "    algo_results = {}\n",
        "    for preproc_name, preproc_func in preprocessing_techniques.items():\n",
        "        X_preprocessed = preproc_func(X)\n",
        "        algorithm.fit(X_preprocessed)\n",
        "\n",
        "        # Check if the number of unique labels is valid\n",
        "        unique_labels = set(algorithm.labels_)\n",
        "        if len(unique_labels) > 1 and -1 not in unique_labels:\n",
        "            labels = algorithm.labels_\n",
        "\n",
        "            # Compute evaluation metrics\n",
        "            metrics = {}\n",
        "            for metric_name, metric_func in evaluation_metrics.items():\n",
        "                score = metric_func(X_preprocessed, labels)\n",
        "                metrics[metric_name] = score\n",
        "\n",
        "            algo_results[preproc_name] = metrics\n",
        "\n",
        "    # Convert results to DataFrame for easy visualization\n",
        "    results_df = pd.DataFrame(algo_results).stack().unstack(level=1)\n",
        "\n",
        "    # Save results to a CSV file\n",
        "    results_df.to_csv(f\"results/{algo_name}_results.csv\")\n"
      ],
      "metadata": {
        "colab": {
          "base_uri": "https://localhost:8080/"
        },
        "id": "E6UMH85aPuNI",
        "outputId": "1da3d5d7-4d9b-41f1-ffd0-0d334c46a75f"
      },
      "execution_count": 36,
      "outputs": [
        {
          "output_type": "stream",
          "name": "stderr",
          "text": [
            "/usr/local/lib/python3.10/dist-packages/sklearn/cluster/_kmeans.py:870: FutureWarning: The default value of `n_init` will change from 10 to 'auto' in 1.4. Set the value of `n_init` explicitly to suppress the warning\n",
            "  warnings.warn(\n",
            "/usr/local/lib/python3.10/dist-packages/sklearn/cluster/_kmeans.py:870: FutureWarning: The default value of `n_init` will change from 10 to 'auto' in 1.4. Set the value of `n_init` explicitly to suppress the warning\n",
            "  warnings.warn(\n",
            "/usr/local/lib/python3.10/dist-packages/sklearn/cluster/_kmeans.py:870: FutureWarning: The default value of `n_init` will change from 10 to 'auto' in 1.4. Set the value of `n_init` explicitly to suppress the warning\n",
            "  warnings.warn(\n",
            "/usr/local/lib/python3.10/dist-packages/sklearn/cluster/_kmeans.py:870: FutureWarning: The default value of `n_init` will change from 10 to 'auto' in 1.4. Set the value of `n_init` explicitly to suppress the warning\n",
            "  warnings.warn(\n",
            "/usr/local/lib/python3.10/dist-packages/sklearn/cluster/_kmeans.py:870: FutureWarning: The default value of `n_init` will change from 10 to 'auto' in 1.4. Set the value of `n_init` explicitly to suppress the warning\n",
            "  warnings.warn(\n",
            "/usr/local/lib/python3.10/dist-packages/sklearn/cluster/_kmeans.py:870: FutureWarning: The default value of `n_init` will change from 10 to 'auto' in 1.4. Set the value of `n_init` explicitly to suppress the warning\n",
            "  warnings.warn(\n",
            "/usr/local/lib/python3.10/dist-packages/sklearn/cluster/_kmeans.py:870: FutureWarning: The default value of `n_init` will change from 10 to 'auto' in 1.4. Set the value of `n_init` explicitly to suppress the warning\n",
            "  warnings.warn(\n"
          ]
        }
      ]
    }
  ]
}